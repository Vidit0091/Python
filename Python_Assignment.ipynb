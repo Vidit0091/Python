{
  "nbformat": 4,
  "nbformat_minor": 0,
  "metadata": {
    "colab": {
      "provenance": [],
      "collapsed_sections": [
        "wnR3a_qwt47y"
      ]
    },
    "kernelspec": {
      "name": "python3",
      "display_name": "Python 3"
    },
    "language_info": {
      "name": "python"
    }
  },
  "cells": [
    {
      "cell_type": "markdown",
      "source": [
        "Python based questions\n",
        "\n",
        "1. What is Python and why is it so popular?\n",
        "\n",
        " -> Python is a high level programming language. There are few reason why it is so popular:-\n",
        "\n",
        " . Widely used in industry\n",
        "\n",
        " . Widely used in data industry\n",
        "\n",
        " . There are a lot of libraries in python (1370000)\n",
        "\n",
        " . Can be used to work on both (front end and back end)\n",
        "\n",
        " . Ease of learning\n",
        "\n",
        " . Versatile language\n",
        "\n",
        " . Huge community\n",
        "\n",
        "\n",
        "\n",
        "\n",
        "2. What is an Interpreter in Python?\n",
        "\n",
        "-> Intrepreter is a program that executes a python code line by line.It converts high level language into machine language. It is different from a compiler as the compiler compiles whole program at once.\n",
        "\n",
        "\n",
        "3. What are pre defined keywords in Python?\n",
        "\n",
        "-> These are pre defined words that hold a special meaning and have a purpose. Keywords are used to create a logic. Key words define flow of a program. There are around 35 keywords in python. Eg= if,else,elif,continue, break etc.\n",
        "\n",
        "4. Can keywords be used as variable names in python?\n",
        "\n",
        "-> No, keywords cannot be used as variable names in python as they are meant for some specific purpose and if used as a variable name, it will give syntax error.\n",
        "\n",
        "5. What is mutability in python?\n",
        "\n",
        "-> Mutability in python refers to whether an object in python whose state can be changed even after its created. When you are able to change value of a container after creating it, it is referred as Mutability. Example - list\n",
        "\n",
        "\n",
        "6. Why are list mutable, and tuples immutable?\n",
        "\n",
        "-> List is majorly used to store items that might change overtime , tuples are used to store items where changes are not expected. Tuples are used to store items which we would not want someone to change, so it can be used to protect data integrity.\n",
        "\n",
        "Tuples are immutable as they are used to store data which we would not like to change. Exmaple- someone's data records\n",
        "We can highlight that it is the use case that why tuples are immutable, because we cannot use list if we wish to add some value we dont want to get changed.\n",
        "\n",
        "\n",
        "7. What is the difference between “==” and “is” operators in Python?\n",
        "\n",
        "- == is a comparison operator and 'is' is considered as identity operator.\n",
        "'is' operator cannot be used to compare objects.\n",
        "'==' checks whether values of 2 objects are same, 'is' checks whether two variables refer to the exact same object.\n",
        "\n",
        "8. What are logical operators in python?\n",
        "\n",
        "-> Examples of logical operators are 'and' & 'or'.\n",
        "Logical operators are used in conditional statements. They are used to compare 2 conditions. 'and' returns true if both condition is true, 'or' returns true if atleast 1 condition is true.\n",
        "\n",
        "9. What is type casting in python?\n",
        "\n",
        "-> The process of changing data type of a value/object is called type casting. There is a need for type casting because in some cases, while executing the code using operators, there can be a mismatch between the data.\n",
        "\n",
        "10. What is the difference between implicit and explicit type casting?\n",
        "\n",
        "-> Implicit type casting is a case where we python has a tendency to understand the data type on its done and automatically converts one data type to another without your intervention.\n",
        "Implicit type casting is a case where we manually convert one data type to another depending on the requirment using built-in functions like int(), float(), str().\n",
        "\n",
        "11. What is the purpose of conditional statements in python?\n",
        "\n",
        "-> Conditional statements help you to code decisions based on some pre conditions. Conditional statements are very helpful in decision making.\n",
        "Conditional statements help to make a decision using keywords like if, else.\n",
        "\n",
        "\n",
        "12.  How does the elif statement work?\n",
        "\n",
        "-> elif is used as part of a conditional statement to check multiple conditions in sequence. It is used after an if statement to check additional conditions if the initial if condition is not met.\n",
        "First,python will check if statements, in case 'if' statements are not true, it will move of elif block, after that else block.\n",
        "\n",
        "13. What is the difference between for and while loops?\n",
        "\n",
        "-> For loop has defined number of itirations and while loop can have undefined number of itirations. For is used when we are sure, how many loops a program would take or it would require, while is used when we are not sure of the number of loops.\n",
        "\n",
        "\n",
        "14. Describe a scenario where a while loop is more suitable than a for loop?\n",
        "\n",
        "-> For example , if we create a program which requires input from the user, lets say a passowrd, in that case we have to use while loop as if we use for loop here, we are not sure how many itirations would be there as the user might not put correct password in 1 attempt, so there would be unknown number of itirations\n",
        "In this case, we can use while loop.\n",
        "\n",
        "\n",
        "\n",
        "\n"
      ],
      "metadata": {
        "id": "wnR3a_qwt47y"
      }
    },
    {
      "cell_type": "markdown",
      "source": [
        "Practical Questions\n",
        "\n",
        "1. Write a Python program to print \"Hello, World!\""
      ],
      "metadata": {
        "id": "LKt81yqBOCKK"
      }
    },
    {
      "cell_type": "code",
      "source": [
        "print (\"hello world\")\n"
      ],
      "metadata": {
        "id": "P8NIstDCvIVn",
        "colab": {
          "base_uri": "https://localhost:8080/"
        },
        "outputId": "f3eca213-c7ed-454b-a74a-f71542b9cce3"
      },
      "execution_count": null,
      "outputs": [
        {
          "output_type": "stream",
          "name": "stdout",
          "text": [
            "hello world\n"
          ]
        }
      ]
    },
    {
      "cell_type": "markdown",
      "source": [
        "2. Write a Python program that displays your name and age"
      ],
      "metadata": {
        "id": "kYdMyd2OB45c"
      }
    },
    {
      "cell_type": "code",
      "source": [
        "Name=\"Vidit\"\n",
        "Age=24\n",
        "\n",
        "print(\"name\",name)\n",
        "print(\"age\",age)"
      ],
      "metadata": {
        "colab": {
          "base_uri": "https://localhost:8080/"
        },
        "id": "Zhy6-bHPCAmp",
        "outputId": "f902efca-b14f-42ab-d28d-de622a15d808"
      },
      "execution_count": null,
      "outputs": [
        {
          "output_type": "stream",
          "name": "stdout",
          "text": [
            "name Vidit\n",
            "age 24\n"
          ]
        }
      ]
    },
    {
      "cell_type": "markdown",
      "source": [
        "3.  Write code to print all the pre-defined keywords in Python using the keyword library.\n"
      ],
      "metadata": {
        "id": "G7wLbtzxCvTO"
      }
    },
    {
      "cell_type": "code",
      "source": [
        "help('keywords')"
      ],
      "metadata": {
        "colab": {
          "base_uri": "https://localhost:8080/"
        },
        "id": "Il95HQeJC4Bo",
        "outputId": "521e0a99-b4fe-4b28-d67f-241cc2564a17"
      },
      "execution_count": null,
      "outputs": [
        {
          "output_type": "stream",
          "name": "stdout",
          "text": [
            "\n",
            "Here is a list of the Python keywords.  Enter any keyword to get more help.\n",
            "\n",
            "False               class               from                or\n",
            "None                continue            global              pass\n",
            "True                def                 if                  raise\n",
            "and                 del                 import              return\n",
            "as                  elif                in                  try\n",
            "assert              else                is                  while\n",
            "async               except              lambda              with\n",
            "await               finally             nonlocal            yield\n",
            "break               for                 not                 \n",
            "\n"
          ]
        }
      ]
    },
    {
      "cell_type": "markdown",
      "source": [
        "4. Write a program that checks if a given word is a Python keyword."
      ],
      "metadata": {
        "id": "j3LbUQp9Ek0-"
      }
    },
    {
      "cell_type": "code",
      "source": [
        "import keyword\n",
        "\n",
        "word = input(\"Enter a word:\")\n",
        "\n",
        "if keyword.iskeyword(word):\n",
        "    print(\"'\" + word + \"' is a Python keyword.\")\n",
        "else:\n",
        "    print(\"'\" + word + \"' is not a Python keyword.\")\n"
      ],
      "metadata": {
        "colab": {
          "base_uri": "https://localhost:8080/"
        },
        "id": "LjZ8Kc6OEs6p",
        "outputId": "332ec4af-9bec-4887-ebbc-1f552d993acb"
      },
      "execution_count": null,
      "outputs": [
        {
          "output_type": "stream",
          "name": "stdout",
          "text": [
            "Enter a word:break\n",
            "'break' is a Python keyword.\n"
          ]
        }
      ]
    },
    {
      "cell_type": "markdown",
      "source": [
        "5.  Create a list and tuple in Python, and demonstrate how attempting to change an element works differently\n",
        "for each"
      ],
      "metadata": {
        "id": "RgMOdjBFJNms"
      }
    },
    {
      "cell_type": "code",
      "source": [
        "lis= [\"Ajay\",\"Vijay\",\"Rahul\"]\n",
        "type(lis)\n",
        "lis[0]=\"Sanjay\"\n",
        "print(lis)"
      ],
      "metadata": {
        "id": "ej2DT4NrJWYk",
        "colab": {
          "base_uri": "https://localhost:8080/"
        },
        "outputId": "d286e54d-81d9-49c3-ad87-c058c49c5ad5"
      },
      "execution_count": null,
      "outputs": [
        {
          "output_type": "stream",
          "name": "stdout",
          "text": [
            "['Sanjay', 'Vijay', 'Rahul']\n"
          ]
        }
      ]
    },
    {
      "cell_type": "code",
      "source": [
        "t= (\"Amit\",\"Narendra\",\"Sonia\")\n",
        "t[0] = \"Raju\"\n",
        "\n",
        "\n",
        "#This code will give an error if executed as its data type is tuple and tuples are immutable"
      ],
      "metadata": {
        "id": "8cW8MGW-5q_q"
      },
      "execution_count": null,
      "outputs": []
    },
    {
      "cell_type": "markdown",
      "source": [],
      "metadata": {
        "id": "GIGaXQkO6oKP"
      }
    },
    {
      "cell_type": "markdown",
      "source": [
        "6. Write a function to demonstrate the behavior of mutable and immutable arguments"
      ],
      "metadata": {
        "id": "mca1SUzG4uVw"
      }
    },
    {
      "cell_type": "markdown",
      "source": [
        "-> We can take above code as an expample here, taking example of 2 data types: List and Tuples"
      ],
      "metadata": {
        "id": "qMxySy--KXMi"
      }
    },
    {
      "cell_type": "code",
      "source": [
        "lis= [\"Ajay\",\"Vijay\",\"Rahul\"]\n",
        "type(lis)\n",
        "lis[0]=\"Sanjay\"\n",
        "print(lis) #list  is a mutable data type so will not give any error and value will get changed"
      ],
      "metadata": {
        "colab": {
          "base_uri": "https://localhost:8080/"
        },
        "outputId": "02f52297-446b-48e5-f1ea-09cb70956ec7",
        "id": "u9fPcORWK2WR"
      },
      "execution_count": null,
      "outputs": [
        {
          "output_type": "stream",
          "name": "stdout",
          "text": [
            "['Sanjay', 'Vijay', 'Rahul']\n"
          ]
        }
      ]
    },
    {
      "cell_type": "code",
      "source": [
        "t= (\"Amit\",\"Narendra\",\"Sonia\")\n",
        "t[0] = \"Raju\" #tuple  is a immutable data type so will give any error and value will not get changed"
      ],
      "metadata": {
        "id": "XBSKzDMhLHo8"
      },
      "execution_count": null,
      "outputs": []
    },
    {
      "cell_type": "markdown",
      "source": [],
      "metadata": {
        "id": "8Ok-Mn1CKFMW"
      }
    },
    {
      "cell_type": "markdown",
      "source": [
        "7.  Write a program that performs basic arithmetic operations on two user-input numbers."
      ],
      "metadata": {
        "id": "5OFRI6CSJgbJ"
      }
    },
    {
      "cell_type": "code",
      "source": [
        "number1 = float(input(\"Enter the first number:\"))\n",
        "number2 = float(input(\"Enter the second number:\"))\n",
        "\n",
        "print(\"\\nSelect an operation:\")\n",
        "print(\"1. Addition\")\n",
        "print(\"2. Subtraction\")\n",
        "print(\"3. Multiplication\")\n",
        "print(\"4. Division\")\n",
        "\n",
        "operation = input(\"Enter the number corresponding to the operation (1/2/3/4): \")\n",
        "\n",
        "if operation == '1':\n",
        "    result = number1 + number2\n",
        "    print(f\"{number1} + {number2} = {result}\")\n",
        "\n",
        "elif operation == '2':\n",
        "    result = num1 - num2\n",
        "    print(f\"{number1} - {number2} = {result}\")\n",
        "\n",
        "elif operation == '3':\n",
        "    result = number1 * number2\n",
        "    print(f\"{number1} * {number2} = {result}\")\n",
        "\n",
        "elif operation == '4':\n",
        "    if number2 != 0:\n",
        "        result = number1 / number2\n",
        "        print(f\"{number1} / {number2} = {result}\")\n",
        "    else:\n",
        "        print(\"Error! Division by zero is not allowed.\")\n",
        "\n",
        "else:\n",
        "    print(\"Invalid input! Please select a valid operation.\")"
      ],
      "metadata": {
        "id": "sMgwuSLsJmYg",
        "colab": {
          "base_uri": "https://localhost:8080/"
        },
        "outputId": "64dcefe1-1c77-49af-8d17-a14fd5c2e781"
      },
      "execution_count": null,
      "outputs": [
        {
          "name": "stdout",
          "output_type": "stream",
          "text": [
            "Enter the first number:22\n"
          ]
        }
      ]
    },
    {
      "cell_type": "markdown",
      "source": [
        "8. Write a program to demonstrate the use of logical operators."
      ],
      "metadata": {
        "id": "2BO-iV6uL13i"
      }
    },
    {
      "cell_type": "code",
      "source": [
        "age = int(input(\"enter your age\"))\n",
        "id = bool(input(\"Do you have an ID? (yes/no): \"))\n",
        "\n",
        "if age >= 18 and id:\n",
        "    print(\"You are allowed to enter.\")\n",
        "else:\n",
        "    print(\"Access denied.\")\n",
        "\n"
      ],
      "metadata": {
        "id": "itaP7mMTMHfv",
        "colab": {
          "base_uri": "https://localhost:8080/"
        },
        "outputId": "762c88b0-15ab-49c7-97b2-ebeb3baf86ec"
      },
      "execution_count": 25,
      "outputs": [
        {
          "output_type": "stream",
          "name": "stdout",
          "text": [
            "enter your age12\n",
            "Do you have an ID? (yes/no): no\n",
            "Access denied.\n"
          ]
        }
      ]
    },
    {
      "cell_type": "code",
      "source": [
        "weekend_input = input(\"Is it the weekend? (yes/no): \")\n",
        "holiday_input = input(\"Is it a holiday? (yes/no): \")\n",
        "\n",
        "weekend = (weekend_input == \"yes\")\n",
        "holiday = (holiday_input == \"yes\")\n",
        "\n",
        "if weekend or holiday:\n",
        "    print(\"You can relax today!\")\n",
        "else:\n",
        "    print(\"Go to work.\")\n",
        "\n"
      ],
      "metadata": {
        "id": "Kjhi3tkQgY6j",
        "colab": {
          "base_uri": "https://localhost:8080/"
        },
        "outputId": "93790959-de87-4fd2-8825-a665923c0c46"
      },
      "execution_count": 27,
      "outputs": [
        {
          "output_type": "stream",
          "name": "stdout",
          "text": [
            "Is it the weekend? (yes/no): yes\n",
            "Is it a holiday? (yes/no): no\n",
            "You can relax today!\n"
          ]
        }
      ]
    },
    {
      "cell_type": "markdown",
      "source": [
        "9.  Write a Python program to convert user input from string to integer, float, and boolean types"
      ],
      "metadata": {
        "id": "cWkHO0VhMIBQ"
      }
    },
    {
      "cell_type": "markdown",
      "source": [
        "To convert string into integer:"
      ],
      "metadata": {
        "id": "LebfSz2kMq_E"
      }
    },
    {
      "cell_type": "code",
      "source": [
        "a=\"2\"\n",
        "print(type(a))\n",
        "print(type(int(a)))"
      ],
      "metadata": {
        "colab": {
          "base_uri": "https://localhost:8080/"
        },
        "id": "DgGnp3aWPH4c",
        "outputId": "24181c88-ad03-4147-eac5-6c1ebc666bf5"
      },
      "execution_count": null,
      "outputs": [
        {
          "output_type": "stream",
          "name": "stdout",
          "text": [
            "<class 'str'>\n",
            "<class 'int'>\n"
          ]
        }
      ]
    },
    {
      "cell_type": "markdown",
      "source": [
        "String to float"
      ],
      "metadata": {
        "id": "0HGC4m6_R46G"
      }
    },
    {
      "cell_type": "code",
      "source": [
        "a=\"2\"\n",
        "print(type(a))\n",
        "print(type(float(a)))\n",
        "\n",
        "\n"
      ],
      "metadata": {
        "colab": {
          "base_uri": "https://localhost:8080/"
        },
        "id": "Z6wQy9sUR8Mz",
        "outputId": "5544ecd9-7398-4cd3-9d31-0b9de28729d2"
      },
      "execution_count": null,
      "outputs": [
        {
          "output_type": "stream",
          "name": "stdout",
          "text": [
            "<class 'str'>\n",
            "<class 'float'>\n"
          ]
        }
      ]
    },
    {
      "cell_type": "markdown",
      "source": [
        "String to Boolean"
      ],
      "metadata": {
        "id": "g4GZcUSDWpXw"
      }
    },
    {
      "cell_type": "code",
      "source": [
        "a=\"2\"\n",
        "print(type(a))\n",
        "print(type(bool(a)))"
      ],
      "metadata": {
        "colab": {
          "base_uri": "https://localhost:8080/"
        },
        "id": "bGuVBKf2Ws21",
        "outputId": "65623297-f5fc-4625-870a-45daeec4e192"
      },
      "execution_count": null,
      "outputs": [
        {
          "output_type": "stream",
          "name": "stdout",
          "text": [
            "<class 'str'>\n",
            "<class 'bool'>\n"
          ]
        }
      ]
    },
    {
      "cell_type": "markdown",
      "source": [],
      "metadata": {
        "id": "v_Fn2qz2MnJ7"
      }
    },
    {
      "cell_type": "markdown",
      "source": [
        "10. Write code to demonstrate type casting with list elements"
      ],
      "metadata": {
        "id": "m6B1nKo0W-PK"
      }
    },
    {
      "cell_type": "code",
      "source": [
        "my_list= [1,2,\"vijay\",4]\n",
        "print(type(my_list[0]))\n",
        "#this code shows '0' element in the list is an integer\n",
        "\n",
        "my_list[0] = float(my_list[0])\n",
        "#converted '0' element into float\n",
        "#each element needs to be converted seprately\n",
        "print(type(my_list[0]))\n",
        "\n",
        "print(my_list[0])\n",
        "\n",
        "my_list[1] = float(my_list[1])\n",
        "#each element needs to be converted seperately\n",
        "\n",
        "\n",
        "print(my_list[1])\n",
        "\n",
        "\n",
        "\n"
      ],
      "metadata": {
        "id": "opZ79upSW_jm",
        "colab": {
          "base_uri": "https://localhost:8080/"
        },
        "outputId": "755e5732-440b-4d6b-8548-fc5d824fa715"
      },
      "execution_count": 67,
      "outputs": [
        {
          "output_type": "stream",
          "name": "stdout",
          "text": [
            "<class 'int'>\n",
            "<class 'float'>\n",
            "1.0\n",
            "2.0\n"
          ]
        }
      ]
    },
    {
      "cell_type": "markdown",
      "source": [
        "11. Write a program that checks if a number is positive, negative, or zero"
      ],
      "metadata": {
        "id": "mnJwPz4DXEfV"
      }
    },
    {
      "cell_type": "code",
      "source": [
        "user_input = input(\"Enter a number:\")\n",
        "\n",
        "number = float(user_input)\n",
        "\n",
        "if number > 0:\n",
        "    print(\"The number is positive.\")\n",
        "elif number < 0:\n",
        "    print(\"The number is negative.\")\n",
        "elif number == 0:\n",
        "    print(\"The number is zero.\")\n"
      ],
      "metadata": {
        "colab": {
          "base_uri": "https://localhost:8080/"
        },
        "id": "8zRnu134XKv5",
        "outputId": "50242643-4aa2-4c92-ed48-1325d4484bff"
      },
      "execution_count": null,
      "outputs": [
        {
          "output_type": "stream",
          "name": "stdout",
          "text": [
            "Enter a number:0\n",
            "The number is zero.\n"
          ]
        }
      ]
    },
    {
      "cell_type": "markdown",
      "source": [
        "12. Write a for loop to print numbers from 1 to 10:"
      ],
      "metadata": {
        "id": "4GYuhxI1ahWq"
      }
    },
    {
      "cell_type": "code",
      "source": [
        "for i in range(1, 11):\n",
        "    print(i)\n"
      ],
      "metadata": {
        "colab": {
          "base_uri": "https://localhost:8080/"
        },
        "id": "W3wFM1v4aki0",
        "outputId": "3bff4775-3c93-4b7e-c1ec-7fa4e94a7eb7"
      },
      "execution_count": null,
      "outputs": [
        {
          "output_type": "stream",
          "name": "stdout",
          "text": [
            "1\n",
            "2\n",
            "3\n",
            "4\n",
            "5\n",
            "6\n",
            "7\n",
            "8\n",
            "9\n",
            "10\n"
          ]
        }
      ]
    },
    {
      "cell_type": "markdown",
      "source": [
        "13. Write a Python program to find the sum of all even numbers between 1 and 50"
      ],
      "metadata": {
        "id": "7uJp3k1tbNrZ"
      }
    },
    {
      "cell_type": "code",
      "source": [
        "num=list(range(2, 51, 2))\n",
        "total=sum(num)\n",
        "print(total)"
      ],
      "metadata": {
        "colab": {
          "base_uri": "https://localhost:8080/"
        },
        "id": "rWTD1FcNbSWN",
        "outputId": "365380fd-6a0b-4a53-b13d-99b94ca7090f"
      },
      "execution_count": null,
      "outputs": [
        {
          "output_type": "stream",
          "name": "stdout",
          "text": [
            "650\n"
          ]
        }
      ]
    },
    {
      "cell_type": "markdown",
      "source": [
        "14. Write a program to reverse a string using a while loop"
      ],
      "metadata": {
        "id": "x6nsm_A2GKOE"
      }
    },
    {
      "cell_type": "code",
      "source": [
        "\n",
        "string2 = \"hello world\"\n",
        "\n",
        "while string2:\n",
        "    print(string2[-1], end=\"\") # print last character\n",
        "    string2 = string2[:-1]     # remove last character\n",
        "\n",
        "\n"
      ],
      "metadata": {
        "id": "2nnrp1hYfZF4",
        "colab": {
          "base_uri": "https://localhost:8080/"
        },
        "outputId": "89483194-8e00-4d5c-d8f0-39c3a0ee9314"
      },
      "execution_count": 72,
      "outputs": [
        {
          "output_type": "stream",
          "name": "stdout",
          "text": [
            "dlrow olleh"
          ]
        }
      ]
    },
    {
      "cell_type": "markdown",
      "source": [
        "15.  Write a Python program to calculate the factorial of a number provided by the user using a while loop."
      ],
      "metadata": {
        "id": "Fv1Z8jyDXH9P"
      }
    },
    {
      "cell_type": "code",
      "source": [
        "num = int(input(\"Enter a number: \"))\n",
        "result = 1\n",
        "\n",
        "while num > 1:\n",
        "    result *= num\n",
        "    num -= 1\n",
        "\n",
        "print(\"Factorial =\", result)\n"
      ],
      "metadata": {
        "colab": {
          "base_uri": "https://localhost:8080/"
        },
        "id": "moQUOVfiGFKV",
        "outputId": "5dcc114d-fec1-4208-f808-65ed07087ddc"
      },
      "execution_count": 79,
      "outputs": [
        {
          "output_type": "stream",
          "name": "stdout",
          "text": [
            "Enter a number: 4\n",
            "Factorial = 24\n"
          ]
        }
      ]
    }
  ]
}